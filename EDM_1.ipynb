{
  "nbformat": 4,
  "nbformat_minor": 0,
  "metadata": {
    "colab": {
      "provenance": []
    },
    "kernelspec": {
      "name": "python3",
      "display_name": "Python 3"
    },
    "language_info": {
      "name": "python"
    }
  },
  "cells": [
    {
      "cell_type": "code",
      "execution_count": 1,
      "metadata": {
        "id": "dGUwuvVwMZhW"
      },
      "outputs": [],
      "source": [
        "#Importanto bibliotecas necessárias\n",
        "import pandas as pd\n",
        "from sklearn.model_selection import train_test_split\n",
        "from sklearn.preprocessing import OneHotEncoder\n",
        "from sklearn.linear_model import LogisticRegression\n",
        "from sklearn.metrics import precision_score\n",
        "from sklearn.metrics import recall_score\n",
        "from sklearn.metrics import f1_score\n",
        "from sklearn.metrics import accuracy_score, classification_report, confusion_matrix"
      ]
    },
    {
      "cell_type": "code",
      "source": [
        "#Importanto arquivo CSV e lendo os dados\n",
        "dados = pd.read_csv('aula2.csv' , sep=';')\n",
        "dados.head()"
      ],
      "metadata": {
        "id": "5lDJt-QLMml0"
      },
      "execution_count": null,
      "outputs": []
    },
    {
      "cell_type": "code",
      "source": [
        "#Limpeza Dados faltantes no dataframe\n",
        "dados = dados.dropna()"
      ],
      "metadata": {
        "id": "4JP7nmnGM1HP"
      },
      "execution_count": 3,
      "outputs": []
    },
    {
      "cell_type": "code",
      "source": [
        "#Limpeza das instancias duplicadas no dataframe\n",
        "dados.drop_duplicates()\n",
        "dados.head()"
      ],
      "metadata": {
        "id": "cCuwOdMEM8Rd"
      },
      "execution_count": null,
      "outputs": []
    },
    {
      "cell_type": "code",
      "source": [
        "#Verificando tipos e formato do dataframe\n",
        "print(dados.head())\n",
        "print(dados.dtypes)\n",
        "print(dados.shape)"
      ],
      "metadata": {
        "id": "4iieLUswNGsP"
      },
      "execution_count": null,
      "outputs": []
    },
    {
      "cell_type": "code",
      "source": [
        "#Estatisticas dos dados\n",
        "pd.set_option('display.precision', 2)\n",
        "print(dados.describe())"
      ],
      "metadata": {
        "id": "g4vWUvzNNNeY"
      },
      "execution_count": null,
      "outputs": []
    },
    {
      "cell_type": "code",
      "source": [
        "#Criando a tabela com os dados que vou usar no meu modelo\n",
        "dados2 = dados[['sex','traveltime','studytime','failures','freetime','internet', 'absences','approved']]\n",
        "print(dados2.columns)"
      ],
      "metadata": {
        "id": "Xa_uLr5ONWbP"
      },
      "execution_count": null,
      "outputs": []
    },
    {
      "cell_type": "code",
      "source": [
        "#Aplicando One_Hot Encoding para as variaveis categoricas\n",
        "dados2 = pd.get_dummies(dados2, columns=['sex', 'internet'])\n",
        "dados2.head()"
      ],
      "metadata": {
        "id": "DQQpAz_CRCBT"
      },
      "execution_count": null,
      "outputs": []
    },
    {
      "cell_type": "code",
      "source": [
        "#Dividindo os dados em conjunto de treinamento e teste\n",
        "X = dados2.drop('approved', axis=1)\n",
        "y = dados2['approved']\n",
        "X_train, X_test, y_train, y_test = train_test_split(X, y, test_size=0.3, random_state=35)"
      ],
      "metadata": {
        "id": "WWx4xApwX-Um"
      },
      "execution_count": 9,
      "outputs": []
    },
    {
      "cell_type": "code",
      "source": [
        "#Treinando o modelo de Regressão Logística\n",
        "model = LogisticRegression()\n",
        "model.fit(X_train, y_train)"
      ],
      "metadata": {
        "id": "nZaUlqPBYI8o"
      },
      "execution_count": null,
      "outputs": []
    },
    {
      "cell_type": "code",
      "source": [
        "y_pred = model.predict(X_test)\n",
        "accuracy = accuracy_score(y_test, y_pred)\n",
        "precision = precision_score(y_test, y_pred)\n",
        "recall = recall_score(y_test, y_pred)\n",
        "f1 = f1_score(y_test, y_pred)"
      ],
      "metadata": {
        "id": "9SWzL0jwYNTi"
      },
      "execution_count": 11,
      "outputs": []
    },
    {
      "cell_type": "code",
      "source": [
        "#Quantos aprovados e reprovados foram preditos corretamente\n",
        "print(\"Acurácia: {:.2f}\".format(accuracy))\n",
        "#Do numero total dos preditos como aprovados quantos sao mesmo aprovados\n",
        "print(\"Precisão: {:.2f}\".format(precision))\n",
        "#Do numero total da base de dados quantos foram preditos como aprovados\n",
        "print(\"Recall: {:.2f}\".format(recall))\n",
        "#Media harmonica entre precisao e recall\n",
        "print(\"F1: {:.2f}\".format(f1))"
      ],
      "metadata": {
        "id": "1k_JkZ-hYTEn"
      },
      "execution_count": null,
      "outputs": []
    }
  ]
}